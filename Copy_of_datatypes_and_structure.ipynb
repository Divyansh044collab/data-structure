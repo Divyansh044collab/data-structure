{
  "nbformat": 4,
  "nbformat_minor": 0,
  "metadata": {
    "colab": {
      "provenance": []
    },
    "kernelspec": {
      "name": "python3",
      "display_name": "Python 3"
    },
    "language_info": {
      "name": "python"
    }
  },
  "cells": [
    {
      "cell_type": "code",
      "execution_count": null,
      "metadata": {
        "colab": {
          "base_uri": "https://localhost:8080/"
        },
        "id": "NTMo7ehZro7q",
        "outputId": "d158bdd7-bc18-47e9-b72e-fe901c4db09e"
      },
      "outputs": [
        {
          "output_type": "stream",
          "name": "stdout",
          "text": [
            "Divyansh khandelwal\n"
          ]
        }
      ],
      "source": [
        "#q1 Write a code to create a string with your name and print it.\n",
        "name= \"Divyansh khandelwal\"\n",
        "print(name)"
      ]
    },
    {
      "cell_type": "code",
      "source": [
        "#q2 Write a code to find the length of the string \"Hello World\"\n",
        "x= \"Hello World\"\n",
        "len(x)"
      ],
      "metadata": {
        "colab": {
          "base_uri": "https://localhost:8080/"
        },
        "id": "8kivWDQnrrWl",
        "outputId": "fe6943b4-0732-402f-d499-82b1638e2658"
      },
      "execution_count": null,
      "outputs": [
        {
          "output_type": "execute_result",
          "data": {
            "text/plain": [
              "11"
            ]
          },
          "metadata": {},
          "execution_count": 2
        }
      ]
    },
    {
      "cell_type": "code",
      "source": [
        "#q3 Write a code to slice the first 3 characters from the string \"Python Programming\"\n",
        "x = \"Python Programming\"\n",
        "print(x[0:3:1])"
      ],
      "metadata": {
        "colab": {
          "base_uri": "https://localhost:8080/"
        },
        "id": "iEFFSkTvr5WT",
        "outputId": "3786df73-c406-4253-f99d-3ac6c438224e"
      },
      "execution_count": null,
      "outputs": [
        {
          "output_type": "stream",
          "name": "stdout",
          "text": [
            "Pyt\n"
          ]
        }
      ]
    },
    {
      "cell_type": "code",
      "source": [
        "#q4. Write a code to convert the string \"hello\" to uppercase\n",
        "x= \"hello\"\n",
        "print(x.upper())\n"
      ],
      "metadata": {
        "colab": {
          "base_uri": "https://localhost:8080/"
        },
        "id": "3DhCog8VsU36",
        "outputId": "522abe6e-92ea-4b40-9721-b3a5126edfd4"
      },
      "execution_count": null,
      "outputs": [
        {
          "output_type": "stream",
          "name": "stdout",
          "text": [
            "HELLO\n"
          ]
        }
      ]
    },
    {
      "cell_type": "code",
      "source": [
        "#q5. Write a code to replace the word \"apple\" with \"orange\" in the string \"I like apple\"\n",
        "j =\"I like apple\"\n",
        "print(j.replace(\"apple\",\"orange\"))"
      ],
      "metadata": {
        "colab": {
          "base_uri": "https://localhost:8080/"
        },
        "id": "BSf7xivvsvwU",
        "outputId": "27f61c81-1474-4672-a733-d6eac42e657f"
      },
      "execution_count": null,
      "outputs": [
        {
          "output_type": "stream",
          "name": "stdout",
          "text": [
            "I like orange\n"
          ]
        }
      ]
    },
    {
      "cell_type": "code",
      "source": [
        " #q6 Write a code to create a list with numbers 1 to 5 and print it\n",
        " x=[1,2,3,4,5]\n",
        " print(x)\n",
        " print(type(x))"
      ],
      "metadata": {
        "colab": {
          "base_uri": "https://localhost:8080/"
        },
        "id": "UGjQOVqJtWBQ",
        "outputId": "0ed7a406-fdad-4b1e-fb00-a2b5d3028660"
      },
      "execution_count": null,
      "outputs": [
        {
          "output_type": "stream",
          "name": "stdout",
          "text": [
            "[1, 2, 3, 4, 5]\n",
            "<class 'list'>\n"
          ]
        }
      ]
    },
    {
      "cell_type": "code",
      "source": [
        "#q7.Write a code to append the number 10 to the list [1, 2, 3, 4]\n",
        "y = [1,2,3,4]\n",
        "y.append(10)\n",
        "print(y)"
      ],
      "metadata": {
        "colab": {
          "base_uri": "https://localhost:8080/"
        },
        "id": "hm9OTCZlt-aU",
        "outputId": "0ce611bf-39de-47d1-ee12-dc56620ee475"
      },
      "execution_count": null,
      "outputs": [
        {
          "output_type": "stream",
          "name": "stdout",
          "text": [
            "[1, 2, 3, 4, 10]\n"
          ]
        }
      ]
    },
    {
      "cell_type": "code",
      "source": [
        "#q8. Write a code to remove the number 3 from the list [1, 2, 3, 4, 5]\n",
        "l= [1,2,3,4,5]\n",
        "l.remove(3)\n",
        "print(l)\n"
      ],
      "metadata": {
        "colab": {
          "base_uri": "https://localhost:8080/"
        },
        "id": "k-zRLvEMuLzY",
        "outputId": "df813704-cb9e-48d6-96af-dc2136015975"
      },
      "execution_count": null,
      "outputs": [
        {
          "output_type": "stream",
          "name": "stdout",
          "text": [
            "[1, 2, 4, 5]\n"
          ]
        }
      ]
    },
    {
      "cell_type": "code",
      "source": [
        "#q9. Write a code to access the second element in the list ['a', 'b', 'c', 'd']\n",
        "list = [\"a\",\"b\",\"c\",\"d\"]\n",
        "list[1:2:1]"
      ],
      "metadata": {
        "colab": {
          "base_uri": "https://localhost:8080/"
        },
        "id": "UXoz0kwdvGqq",
        "outputId": "eb21f113-e99b-4f67-d467-842f38c2054b"
      },
      "execution_count": null,
      "outputs": [
        {
          "output_type": "execute_result",
          "data": {
            "text/plain": [
              "['b']"
            ]
          },
          "metadata": {},
          "execution_count": 24
        }
      ]
    },
    {
      "cell_type": "code",
      "source": [
        "#q.10 Write a code to reverse the list [10, 20, 30, 40, 50].\n",
        "list2= [10, 20, 30, 40, 50]\n",
        "list2.reverse()\n",
        "print(list2)"
      ],
      "metadata": {
        "colab": {
          "base_uri": "https://localhost:8080/"
        },
        "id": "UO5nWl87vwAD",
        "outputId": "85b57ca0-2818-494b-eb9d-2e92df0f185c"
      },
      "execution_count": null,
      "outputs": [
        {
          "output_type": "stream",
          "name": "stdout",
          "text": [
            "[50, 40, 30, 20, 10]\n"
          ]
        }
      ]
    },
    {
      "cell_type": "code",
      "source": [
        "#q11 Write a code to create a tuple with the elements 100, 200, 300 and print it.\n",
        "tupple = (100,200,300)\n",
        "print (tupple)\n",
        "print(type(tupple))"
      ],
      "metadata": {
        "colab": {
          "base_uri": "https://localhost:8080/"
        },
        "id": "Q8oGEmMNwLwk",
        "outputId": "bb652eda-8796-4a96-face-664f0043cb16"
      },
      "execution_count": null,
      "outputs": [
        {
          "output_type": "stream",
          "name": "stdout",
          "text": [
            "(100, 200, 300)\n",
            "<class 'tuple'>\n"
          ]
        }
      ]
    },
    {
      "cell_type": "code",
      "source": [
        "#q12 Write a code to access the second-to-last element of the tuple ('red', 'green', 'blue', 'yellow').\n",
        "tupple1 = ('red', 'green', 'blue' , 'yellow')\n",
        "tupple1[2:3:1]"
      ],
      "metadata": {
        "colab": {
          "base_uri": "https://localhost:8080/"
        },
        "id": "cXadG7plwpo4",
        "outputId": "58cabe11-9ebe-4af5-d684-95ab8aa70238"
      },
      "execution_count": null,
      "outputs": [
        {
          "output_type": "execute_result",
          "data": {
            "text/plain": [
              "('blue',)"
            ]
          },
          "metadata": {},
          "execution_count": 34
        }
      ]
    },
    {
      "cell_type": "code",
      "source": [
        "#q13 Write a code to find the minimum number in the tuple (10, 20, 5, 15).\n",
        "tupple3 = (10,20,5,15)\n",
        "print(min(tupple3))\n"
      ],
      "metadata": {
        "colab": {
          "base_uri": "https://localhost:8080/"
        },
        "id": "VYtzHA39xBGX",
        "outputId": "40e811ea-6fe7-48c5-ec5f-0a37c9d8beba"
      },
      "execution_count": null,
      "outputs": [
        {
          "output_type": "stream",
          "name": "stdout",
          "text": [
            "5\n"
          ]
        }
      ]
    },
    {
      "cell_type": "code",
      "source": [
        "#q14 Write a code to find the index of the element \"cat\" in the tuple ('dog', 'cat', 'rabbit')\n",
        "tupple4 = ('dog', 'cat', 'rabbit')\n",
        "print(tupple4.index(\"cat\"))"
      ],
      "metadata": {
        "colab": {
          "base_uri": "https://localhost:8080/"
        },
        "id": "C9fwDjAs2UDD",
        "outputId": "d5f7d385-d50b-402d-d28e-2085ded9a615"
      },
      "execution_count": null,
      "outputs": [
        {
          "output_type": "stream",
          "name": "stdout",
          "text": [
            "1\n"
          ]
        }
      ]
    },
    {
      "cell_type": "code",
      "source": [
        "#q15  Write a code to create a tuple containing three different fruits and check if \"kiwi\" is in it.\n",
        "tupple5 = (\"apple\",\"banana\",\"kiwi\")\n",
        "\"kiwi\" in tupple5"
      ],
      "metadata": {
        "colab": {
          "base_uri": "https://localhost:8080/"
        },
        "id": "1mjMEACa3EGI",
        "outputId": "1504a937-11f8-4d6b-ec9b-ad7395f0472b"
      },
      "execution_count": null,
      "outputs": [
        {
          "output_type": "execute_result",
          "data": {
            "text/plain": [
              "True"
            ]
          },
          "metadata": {},
          "execution_count": 41
        }
      ]
    },
    {
      "cell_type": "code",
      "source": [
        "#q16.  Write a code to create a set with the elements 'a', 'b', 'c' and print it\n",
        "set = {'a', 'b', 'c'}\n",
        "print(set)\n",
        "print(type(set))"
      ],
      "metadata": {
        "colab": {
          "base_uri": "https://localhost:8080/"
        },
        "id": "eaEKePWl3XG6",
        "outputId": "67ff6831-0004-4435-a3fc-d6b573e117b7"
      },
      "execution_count": null,
      "outputs": [
        {
          "output_type": "stream",
          "name": "stdout",
          "text": [
            "{'c', 'b', 'a'}\n",
            "<class 'set'>\n"
          ]
        }
      ]
    },
    {
      "cell_type": "code",
      "source": [
        " #q17 Write a code to clear all elements from the set {1, 2, 3, 4, 5}\n",
        " set = {1,2,3,4,5}\n",
        " set.clear()"
      ],
      "metadata": {
        "id": "wmgak_Wl3k3M"
      },
      "execution_count": null,
      "outputs": []
    },
    {
      "cell_type": "code",
      "source": [
        " #q18 Write a code to remove the element 4 from the set {1, 2, 3, 4}\n",
        " set_2 = {1,2,3,4}\n",
        " set_2.remove(4)\n",
        " print(set_2)"
      ],
      "metadata": {
        "colab": {
          "base_uri": "https://localhost:8080/"
        },
        "id": "6SLiIK7438k6",
        "outputId": "49dbbdc4-08b5-4cac-f1f6-f546aa716612"
      },
      "execution_count": null,
      "outputs": [
        {
          "output_type": "stream",
          "name": "stdout",
          "text": [
            "{1, 2, 3}\n"
          ]
        }
      ]
    },
    {
      "cell_type": "code",
      "source": [
        "#q19  Write a code to find the union of two sets {1, 2, 3} and {3, 4, 5}\n",
        "set3 = {1,2,3}\n",
        "set4 = {3,4,5}\n",
        "print(set3.union(set4))"
      ],
      "metadata": {
        "colab": {
          "base_uri": "https://localhost:8080/"
        },
        "id": "twFxW4hI4K30",
        "outputId": "73ef64ec-f408-4b23-e813-ddffb2df1ae2"
      },
      "execution_count": null,
      "outputs": [
        {
          "output_type": "stream",
          "name": "stdout",
          "text": [
            "{1, 2, 3, 4, 5}\n"
          ]
        }
      ]
    },
    {
      "cell_type": "code",
      "source": [
        "#q20 Write a code to find the intersection of two sets {1, 2, 3} and {2, 3, 4}\n",
        "set1 = {1, 2, 3}\n",
        "set2 = {2, 3, 4}\n",
        "intersection = set1.intersection(set2)\n",
        "print(intersection)\n",
        "\n"
      ],
      "metadata": {
        "colab": {
          "base_uri": "https://localhost:8080/"
        },
        "id": "YxC17wMX4my5",
        "outputId": "4437ad36-2dde-4dc7-fef4-5d5813a13875"
      },
      "execution_count": null,
      "outputs": [
        {
          "output_type": "stream",
          "name": "stdout",
          "text": [
            "{2, 3}\n"
          ]
        }
      ]
    },
    {
      "cell_type": "code",
      "source": [
        "#q21  Write a code to create a dictionary with the keys \"name\", \"age\", and \"city\", and print it.\n",
        "dict = {\"name\": \"divyansh\",\"age\":\"21\",\"city\":\"jaipur\"}\n",
        "print (dict)\n",
        "print(type(dict))"
      ],
      "metadata": {
        "colab": {
          "base_uri": "https://localhost:8080/"
        },
        "id": "IQnJqy5Y5GN2",
        "outputId": "8b7d11e5-5cb9-460b-f3b4-e92f5361a317"
      },
      "execution_count": null,
      "outputs": [
        {
          "output_type": "stream",
          "name": "stdout",
          "text": [
            "{'name': 'divyansh', 'age': '21', 'city': 'jaipur'}\n",
            "<class 'dict'>\n"
          ]
        }
      ]
    },
    {
      "cell_type": "code",
      "source": [
        "#q22  Write a code to add a new key-value pair \"country\": \"USA\" to the dictionary {'name': 'John', 'age': 25}\n",
        "dict2 = {'name': 'John', 'age': 25}\n",
        "dict2['country'] = 'USA'\n",
        "print(dict2)"
      ],
      "metadata": {
        "colab": {
          "base_uri": "https://localhost:8080/"
        },
        "id": "R9T5kJTI57Pc",
        "outputId": "4fc7ba79-8fc5-4f54-fa28-d1b02678f237"
      },
      "execution_count": null,
      "outputs": [
        {
          "output_type": "stream",
          "name": "stdout",
          "text": [
            "{'name': 'John', 'age': 25, 'country': 'USA'}\n"
          ]
        }
      ]
    },
    {
      "cell_type": "code",
      "source": [
        "#q23 Write a code to access the value associated with the key \"name\" in the dictionary {'name': 'Alice', 'age': 30}\n",
        "dict={'name': 'Alice', 'age': 30}\n",
        "print(dict['name'])\n"
      ],
      "metadata": {
        "colab": {
          "base_uri": "https://localhost:8080/"
        },
        "id": "EAYcklw_-J19",
        "outputId": "fc8ddcca-5d1b-4fa2-aeca-33c73cfc0f3c"
      },
      "execution_count": null,
      "outputs": [
        {
          "output_type": "stream",
          "name": "stdout",
          "text": [
            "Alice\n"
          ]
        }
      ]
    },
    {
      "cell_type": "code",
      "source": [
        "#q24  Write a code to remove the key \"age\" from the dictionary {'name': 'Bob', 'age': 22, 'city': 'New York'}\n",
        "dict = {'name': 'Bob', 'age': 22, 'city': 'New York'}\n",
        "dict.pop('age')\n",
        "print(dict)\n"
      ],
      "metadata": {
        "colab": {
          "base_uri": "https://localhost:8080/"
        },
        "id": "_-V2TlHZ-dNk",
        "outputId": "f9825cde-31ab-4a3f-bc68-8e78bedc03fc"
      },
      "execution_count": null,
      "outputs": [
        {
          "output_type": "stream",
          "name": "stdout",
          "text": [
            "{'name': 'Bob', 'city': 'New York'}\n"
          ]
        }
      ]
    },
    {
      "cell_type": "code",
      "source": [
        "#q25 Write a code to check if the key \"city\" exists in the dictionary {'name': 'Alice', 'city': 'Paris'}\n",
        "dict = {'name': 'Alice', 'city': 'Paris'}\n",
        "if 'city' in dict:\n",
        "    print(\"The key 'city' exists in the dictionary.\")\n",
        "else:\n",
        "    print(\"The key 'city' does not exist in the dictionary.\")"
      ],
      "metadata": {
        "colab": {
          "base_uri": "https://localhost:8080/"
        },
        "id": "16RX6-b0-nQd",
        "outputId": "35b5e01d-68a2-4edb-e462-3b7766d324bb"
      },
      "execution_count": null,
      "outputs": [
        {
          "output_type": "stream",
          "name": "stdout",
          "text": [
            "The key 'city' exists in the dictionary.\n"
          ]
        }
      ]
    },
    {
      "cell_type": "code",
      "source": [
        "#q26 Write a code to create a list, a tuple, and a dictionary, and print them all.\n",
        "list6 = (1,2,3,4,5,5,5)\n",
        "tupple = (\"a\",\"bb\",6,7)\n",
        "dict = {\"name\":\"chetan\",\"age\":\"45\"}\n",
        "print(list6)\n",
        "print(tupple)\n",
        "print(dict)\n"
      ],
      "metadata": {
        "colab": {
          "base_uri": "https://localhost:8080/"
        },
        "id": "QNXNObIA-9C2",
        "outputId": "c6fa38f3-8733-445f-dc1f-0bdf674244ee"
      },
      "execution_count": null,
      "outputs": [
        {
          "output_type": "stream",
          "name": "stdout",
          "text": [
            "(1, 2, 3, 4, 5, 5, 5)\n",
            "('a', 'bb', 6, 7)\n",
            "{'name': 'chetan', 'age': '45'}\n"
          ]
        }
      ]
    },
    {
      "cell_type": "code",
      "source": [
        "#q27 Write a code to create a list of 5 random numbers between 1 and 100, sort it in ascending order, and print the result.\n",
        "import random\n",
        "n=5\n",
        "p = random.sample(range(1, 101), n)\n",
        "p.sort()\n",
        "print(p)\n"
      ],
      "metadata": {
        "colab": {
          "base_uri": "https://localhost:8080/"
        },
        "id": "rzOTQDfY_FpQ",
        "outputId": "a81184dc-0f08-46d3-a7bc-1daa8a9f53ea"
      },
      "execution_count": null,
      "outputs": [
        {
          "output_type": "stream",
          "name": "stdout",
          "text": [
            "[18, 30, 46, 74, 100]\n"
          ]
        }
      ]
    },
    {
      "cell_type": "code",
      "source": [
        "#q28  Write a code to create a list with strings and print the element at the third index\n",
        "x = [\"bbc\",\"abc\",\"aaa\",\"bbb\",\"ccc\"]\n",
        "print(x[3:4])\n",
        "print(x.index(\"bbb\"))"
      ],
      "metadata": {
        "colab": {
          "base_uri": "https://localhost:8080/"
        },
        "id": "XjvhLtSmBKRY",
        "outputId": "1988764c-4eaf-4067-c85a-419709fd5151"
      },
      "execution_count": null,
      "outputs": [
        {
          "output_type": "stream",
          "name": "stdout",
          "text": [
            "['bbb']\n",
            "3\n"
          ]
        }
      ]
    },
    {
      "cell_type": "code",
      "source": [
        "#q29 Write a code to combine two dictionaries into one and print the result.\n",
        "dict = {\"name\":\"ron\",\"age\":\"20\"}\n",
        "dict2 = {\"country\":\"india\",\"gender\":\"male\"}\n",
        "dict.update(dict2)\n",
        "print(dict)"
      ],
      "metadata": {
        "colab": {
          "base_uri": "https://localhost:8080/"
        },
        "id": "bzcZjHWNEWvA",
        "outputId": "2f5452c0-2385-4251-f65d-686230ac3881"
      },
      "execution_count": null,
      "outputs": [
        {
          "output_type": "stream",
          "name": "stdout",
          "text": [
            "{'name': 'ron', 'age': '20', 'country': 'india', 'gender': 'male'}\n"
          ]
        }
      ]
    },
    {
      "cell_type": "code",
      "source": [
        "# q30 . Write a code to convert a list of strings into a set\n",
        "\n",
        "list = [\"aa\",\"ss\",\"bb\"]\n",
        "list = set(list)\n",
        "print(type(list))\n",
        "print(list)"
      ],
      "metadata": {
        "colab": {
          "base_uri": "https://localhost:8080/"
        },
        "id": "eY80u-8vFQcz",
        "outputId": "63925608-0591-4e22-fe5d-2b8dde6c6a8e"
      },
      "execution_count": null,
      "outputs": [
        {
          "output_type": "stream",
          "name": "stdout",
          "text": [
            "<class 'set'>\n",
            "{'aa', 'bb', 'ss'}\n"
          ]
        }
      ]
    },
    {
      "cell_type": "code",
      "source": [],
      "metadata": {
        "id": "IjgaaDycM8mw"
      },
      "execution_count": null,
      "outputs": []
    }
  ]
}